{
 "cells": [
  {
   "cell_type": "markdown",
   "metadata": {},
   "source": [
    "# Tidal Vector Force Field along Earth's Surface\n"
   ]
  },
  {
   "cell_type": "code",
   "execution_count": 2,
   "metadata": {},
   "outputs": [
    {
     "name": "stderr",
     "output_type": "stream",
     "text": [
      "Python 3.6.4 :: Anaconda custom (64-bit)\n"
     ]
    }
   ],
   "source": [
    "!python --version"
   ]
  },
  {
   "cell_type": "code",
   "execution_count": 3,
   "metadata": {},
   "outputs": [],
   "source": [
    "import numpy as np\n",
    "import matplotlib.pyplot as plt\n",
    "%matplotlib inline"
   ]
  },
  {
   "cell_type": "code",
   "execution_count": 8,
   "metadata": {
    "scrolled": false
   },
   "outputs": [
    {
     "data": {
      "image/png": "[encoded data removed]",
      "text/plain": [
       "<Figure size 1080x720 with 1 Axes>"
      ]
     },
     "metadata": {},
     "output_type": "display_data"
    }
   ],
   "source": [
    "from matplotlib.patches import Ellipse, Arc, FancyArrowPatch\n",
    "\n",
    "Ocean_rad = 2\n",
    "Moon_rad = 0.5\n",
    "Moon_dist_x = -8\n",
    "Moon_dist_y = 0\n",
    "\n",
    "x_Ocean = Ocean_rad*np.cos(np.linspace(-np.pi,np.pi,100))\n",
    "y_Ocean = Ocean_rad*np.sin(np.linspace(-np.pi,np.pi,100))\n",
    "\n",
    "x_Moon = Moon_rad*np.cos(np.linspace(-np.pi,np.pi,100))+Moon_dist_x\n",
    "y_Moon = Moon_rad*np.sin(np.linspace(-np.pi,np.pi,100))+Moon_dist_y\n",
    "\n",
    "\n",
    "fig, ax = plt.subplots(figsize=(15,10))\n",
    "ax.set_title(\"Tidal Vectors from Eq. 5.51\", {'fontsize':15})\n",
    "ax.set_aspect(\"equal\")\n",
    "\n",
    "#Earth Ocean\n",
    "ax.plot(x_Ocean,y_Ocean, c=\"blue\")\n",
    "ax.add_artist(plt.Circle((0,0),Ocean_rad,color=\"blue\", alpha=0.2))\n",
    "\n",
    "#Moon\n",
    "ax.plot(x_Moon,y_Moon, c=\"grey\")\n",
    "ax.add_artist(plt.Circle((Moon_dist_x, Moon_dist_y),0.5,color=\"grey\", alpha=0.2))\n",
    "\n",
    "Tf1_arrow = FancyArrowPatch((-2,0),\n",
    "                           (-3 , 0), \n",
    "                           arrowstyle=\"Simple,tail_width=0.5,head_width=4,head_length=8\")\n",
    "ax.add_patch(Tf1_arrow)\n",
    "ax.annotate('$\\mathbf{F}_{T}$', xy=(0,0), \n",
    "            xytext=(-3,-0.5))\n",
    "\n",
    "Tf2_arrow = FancyArrowPatch((2,0),\n",
    "                           (3 , 0), \n",
    "                           arrowstyle=\"Simple,tail_width=0.5,head_width=4,head_length=8\")\n",
    "ax.add_patch(Tf2_arrow)\n",
    "ax.annotate('$\\mathbf{F}_{T}$', xy=(0,0), \n",
    "            xytext=(2.5,-0.5))\n",
    "\n",
    "eD_arrow = FancyArrowPatch((-7.5,0),\n",
    "                           (-6.5 , 0), \n",
    "                           arrowstyle=\"Simple,tail_width=0.5,head_width=4,head_length=8\")\n",
    "ax.add_patch(eD_arrow)\n",
    "ax.annotate('$\\mathbf{e}_{D}$', xy=(0,0), \n",
    "            xytext=(-7.5,-0.5))\n",
    "\n",
    "ax.plot((-2,2),(0,0),c=\"black\", alpha=0.5)\n",
    "ax.plot((0,0),(-2,2),c=\"black\", alpha=0.5)\n",
    "\n",
    "ax.plot((-8,0),(0,0),c=\"black\", alpha=0.5)\n",
    "ax.plot((-8,0),(0,2),c=\"black\", alpha=0.5)\n",
    "\n",
    "ax.plot(0, 2, marker='o', markersize=3, color=\"black\")\n",
    "ax.annotate('$m$', xy=(0,0), \n",
    "            xytext=(-0.5,2.1))\n",
    "ax.annotate('$D$', xy=(-4,0), \n",
    "            xytext=(-4,-0.5))\n",
    "ax.annotate('$R$', xy=(-4,0), \n",
    "            xytext=(-4,1.2))\n",
    "\n",
    "eR1_arrow = FancyArrowPatch((0,2),\n",
    "                           (+1.5*8/np.sqrt(8**2+2**2) , 2+1.5*2/np.sqrt(8**2+2**2)), \n",
    "                           arrowstyle=\"Simple,tail_width=0.5,head_width=4,head_length=8\")\n",
    "ax.add_patch(eR1_arrow)\n",
    "ax.annotate('$\\mathbf{e}_{R}$', xy=(0,0), \n",
    "            xytext=(1,2.5))\n",
    "\n",
    "eR2_arrow = FancyArrowPatch((0,-2),\n",
    "                           (+1.5*8/np.sqrt(8**2+2**2) , -2-1.5*2/np.sqrt(8**2+2**2)), \n",
    "                           arrowstyle=\"Simple,tail_width=0.5,head_width=4,head_length=8\")\n",
    "ax.add_patch(eR2_arrow)\n",
    "ax.annotate('$\\mathbf{e}_{R}$', xy=(0,0), \n",
    "            xytext=(1,-2.7))\n",
    "\n",
    "ax.axis('off')\n",
    "ax.set_xlim(-10,10)\n",
    "ax.set_ylim(-4,4)\n",
    "\n",
    "fig.savefig('Tidal Vectors from Eq. 5.51 plot.png', transparent=False, dpi=200, bbox_inches=\"tight\")"
   ]
  },
  {
   "cell_type": "code",
   "execution_count": null,
   "metadata": {},
   "outputs": [],
   "source": []
  }
 ],
 "metadata": {
  "kernelspec": {
   "display_name": "Python 3",
   "language": "python",
   "name": "python3"
  },
  "language_info": {
   "codemirror_mode": {
    "name": "ipython",
    "version": 3
   },
   "file_extension": ".py",
   "mimetype": "text/x-python",
   "name": "python",
   "nbconvert_exporter": "python",
   "pygments_lexer": "ipython3",
   "version": "3.6.4"
  }
 },
 "nbformat": 4,
 "nbformat_minor": 2
}
